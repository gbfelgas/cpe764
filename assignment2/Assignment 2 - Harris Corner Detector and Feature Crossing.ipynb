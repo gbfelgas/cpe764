{
 "cells": [
  {
   "cell_type": "code",
   "execution_count": 1,
   "metadata": {},
   "outputs": [],
   "source": [
    "# importando as bibliotecas\n",
    "\n",
    "import numpy as np\n",
    "import cv2"
   ]
  },
  {
   "cell_type": "code",
   "execution_count": 2,
   "metadata": {},
   "outputs": [],
   "source": [
    "# carregando a imagem a ser analisada\n",
    "\n",
    "img = cv2.imread('CV_Lista02_dados/goi1.jpg', 0)"
   ]
  },
  {
   "cell_type": "code",
   "execution_count": 3,
   "metadata": {},
   "outputs": [],
   "source": [
    "# calculando as derivadas da imagem\n",
    "Wd = 3\n",
    "\n",
    "dx = cv2.Sobel(img, -1, 1, 0, ksize=Wd)\n",
    "dy = cv2.Sobel(img, -1, 0, 1, ksize=Wd)"
   ]
  },
  {
   "cell_type": "code",
   "execution_count": 4,
   "metadata": {},
   "outputs": [],
   "source": [
    "dxdx = dx ** 2\n",
    "dydy = dy ** 2\n",
    "dxdy = dx * dy"
   ]
  },
  {
   "cell_type": "code",
   "execution_count": 15,
   "metadata": {},
   "outputs": [
    {
     "name": "stdout",
     "output_type": "stream",
     "text": [
      "[[0. 0. 0. 0. 0. 0. 0. 0. 0. 0. 0. 0. 0. 0. 0.]\n",
      " [0. 0. 0. 0. 0. 0. 0. 0. 0. 0. 0. 0. 0. 0. 0.]]\n",
      "[[0. 0. 0. 0. 0. 0. 0. 0. 0. 0. 0. 0. 0. 0. 0.]\n",
      " [0. 0. 0. 0. 0. 0. 0. 0. 0. 0. 0. 0. 0. 0. 0.]]\n"
     ]
    },
    {
     "ename": "ValueError",
     "evalue": "The truth value of an array with more than one element is ambiguous. Use a.any() or a.all()",
     "output_type": "error",
     "traceback": [
      "\u001b[1;31m---------------------------------------------------------------------------\u001b[0m",
      "\u001b[1;31mValueError\u001b[0m                                Traceback (most recent call last)",
      "\u001b[1;32m<ipython-input-15-76e2d9768f5b>\u001b[0m in \u001b[0;36m<module>\u001b[1;34m\u001b[0m\n\u001b[0;32m     27\u001b[0m         \u001b[0mR\u001b[0m \u001b[1;33m=\u001b[0m \u001b[0mlamb1\u001b[0m \u001b[1;33m*\u001b[0m \u001b[0mlamb2\u001b[0m \u001b[1;33m-\u001b[0m \u001b[1;36m0.04\u001b[0m \u001b[1;33m*\u001b[0m \u001b[1;33m(\u001b[0m\u001b[0mlamb1\u001b[0m \u001b[1;33m+\u001b[0m \u001b[0mlamb2\u001b[0m\u001b[1;33m)\u001b[0m \u001b[1;33m**\u001b[0m \u001b[1;36m2\u001b[0m\u001b[1;33m\u001b[0m\u001b[1;33m\u001b[0m\u001b[0m\n\u001b[0;32m     28\u001b[0m \u001b[1;33m\u001b[0m\u001b[0m\n\u001b[1;32m---> 29\u001b[1;33m         \u001b[1;32mif\u001b[0m \u001b[0mR\u001b[0m \u001b[1;33m>\u001b[0m \u001b[0mthreshold\u001b[0m\u001b[1;33m:\u001b[0m\u001b[1;33m\u001b[0m\u001b[1;33m\u001b[0m\u001b[0m\n\u001b[0m\u001b[0;32m     30\u001b[0m             \u001b[0mcorner\u001b[0m\u001b[1;33m[\u001b[0m\u001b[0mx\u001b[0m\u001b[1;33m,\u001b[0m \u001b[0my\u001b[0m\u001b[1;33m]\u001b[0m \u001b[1;33m+=\u001b[0m \u001b[0mR\u001b[0m\u001b[1;33m\u001b[0m\u001b[1;33m\u001b[0m\u001b[0m\n",
      "\u001b[1;31mValueError\u001b[0m: The truth value of an array with more than one element is ambiguous. Use a.any() or a.all()"
     ]
    }
   ],
   "source": [
    "# definindo os elementos da matriz de correlacao para cada pixel\n",
    "width = img.shape[0]\n",
    "heigh = img.shape[1]\n",
    "offset = int(((5 * Wd) - 1) / 2)\n",
    "threshold = 5000\n",
    "\n",
    "corner = np.zeros((width, heigh))\n",
    "\n",
    "np.pad(dxdx, ((offset, offset), (offset, offset)), 'constant')\n",
    "np.pad(dydy, ((offset, offset), (offset, offset)), 'constant')\n",
    "np.pad(dxdy, ((offset, offset), (offset, offset)), 'constant')\n",
    "\n",
    "for y in range(heigh):\n",
    "    for x in range(width):\n",
    "        pixel_dxdx = dxdx[x * offset : (x + 2) * offset + 1, y * offset : (y + 2) * offset + 1]\n",
    "        pixel_dydy = dydy[x * offset : (x + 2) * offset + 1, y * offset : (y + 2) * offset + 1]\n",
    "        pixel_dxdy = dxdy[x * offset : (x + 2) * offset + 1, y * offset : (y + 2) * offset + 1]\n",
    "        \n",
    "        m = [[pixel_dxdx, pixel_dxdy], [pixel_dxdy, pixel_dydy]]\n",
    "        \n",
    "        lamb1 = np.linalg.eig(m)[0][0]\n",
    "        lamb2 = np.linalg.eig(m)[0][1]\n",
    "        \n",
    "        print(lamb1)\n",
    "        print(lamb2)\n",
    "        \n",
    "        R = lamb1 * lamb2 - 0.04 * (lamb1 + lamb2) ** 2\n",
    "        \n",
    "        if R > threshold:\n",
    "            corner[x, y] += R"
   ]
  },
  {
   "cell_type": "code",
   "execution_count": null,
   "metadata": {},
   "outputs": [],
   "source": []
  }
 ],
 "metadata": {
  "kernelspec": {
   "display_name": "Python 3",
   "language": "python",
   "name": "python3"
  },
  "language_info": {
   "codemirror_mode": {
    "name": "ipython",
    "version": 3
   },
   "file_extension": ".py",
   "mimetype": "text/x-python",
   "name": "python",
   "nbconvert_exporter": "python",
   "pygments_lexer": "ipython3",
   "version": "3.7.3"
  }
 },
 "nbformat": 4,
 "nbformat_minor": 2
}
