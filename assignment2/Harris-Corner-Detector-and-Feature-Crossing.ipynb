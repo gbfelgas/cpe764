{
 "cells": [
  {
   "cell_type": "markdown",
   "metadata": {},
   "source": [
    "**Part 1: Harris Corner Detector**"
   ]
  },
  {
   "cell_type": "code",
   "execution_count": 1,
   "metadata": {},
   "outputs": [],
   "source": [
    "# importing libraries\n",
    "\n",
    "import cv2 \n",
    "import sys\n",
    "\n",
    "import numpy as np\n",
    "import matplotlib as plt\n",
    "\n",
    "np.set_printoptions(threshold=sys.maxsize)"
   ]
  },
  {
   "cell_type": "code",
   "execution_count": 2,
   "metadata": {},
   "outputs": [],
   "source": [
    "# loading example image\n",
    "\n",
    "img = cv2.imread('CV_Lista02_dados/goi1.jpg', 0)"
   ]
  },
  {
   "cell_type": "code",
   "execution_count": 3,
   "metadata": {},
   "outputs": [],
   "source": [
    "# Calculating derivatives for both directions\n",
    "Wd = 3\n",
    "\n",
    "dx = cv2.Sobel(img, -1, 1, 0, ksize=Wd)\n",
    "dy = cv2.Sobel(img, -1, 0, 1, ksize=Wd)"
   ]
  },
  {
   "cell_type": "code",
   "execution_count": 4,
   "metadata": {},
   "outputs": [],
   "source": [
    "# Visualizing dx\n",
    "\n",
    "cv2.imshow('img', dx)\n",
    "cv2.waitKey(0)\n",
    "cv2.destroyAllWindows()"
   ]
  },
  {
   "cell_type": "code",
   "execution_count": 5,
   "metadata": {},
   "outputs": [],
   "source": [
    "# Visualizing dy\n",
    "\n",
    "cv2.imshow('img', dy)\n",
    "cv2.waitKey(0)\n",
    "cv2.destroyAllWindows()"
   ]
  },
  {
   "cell_type": "code",
   "execution_count": 6,
   "metadata": {},
   "outputs": [],
   "source": [
    "# Setting relations for the covariance matrix\n",
    "\n",
    "dxdx = dx ** 2\n",
    "dydy = dy ** 2\n",
    "dxdy = dx * dy"
   ]
  },
  {
   "cell_type": "code",
   "execution_count": 7,
   "metadata": {},
   "outputs": [],
   "source": [
    "# Initializing parameters\n",
    "width = img.shape[0]\n",
    "heigh = img.shape[1]\n",
    "offset = int(((5 * Wd) - 1) / 2)\n",
    "threshold = 1500000\n",
    "stride = 1\n",
    "\n",
    "# Initializing corner variable to store the points\n",
    "corner = np.zeros((width, heigh), np.float64)\n",
    "\n",
    "# Applying symmetric padding to the image\n",
    "np.pad(dxdx, ((offset, offset), (offset, offset)), 'constant')\n",
    "np.pad(dydy, ((offset, offset), (offset, offset)), 'constant')\n",
    "np.pad(dxdy, ((offset, offset), (offset, offset)), 'constant')\n",
    "\n",
    "# For each pixel, the covariance matrix is calculated\n",
    "for y in range(heigh):\n",
    "    for x in range(width):\n",
    "        sdxdx = np.sum(dxdx[(x * stride) : (x * stride) + (2 * offset), (y * stride) : (y * stride) + (2 * offset)])\n",
    "        sdydy = np.sum(dydy[(x * stride) : (x * stride) + (2 * offset), (y * stride) : (y * stride) + (2 * offset)])\n",
    "        sdxdy = np.sum(dxdy[(x * stride) : (x * stride) + (2 * offset), (y * stride) : (y * stride) + (2 * offset)])\n",
    "        \n",
    "        cov = [[sdxdx, sdxdy], [sdxdy, sdydy]]\n",
    "        \n",
    "        lamb1 = np.linalg.eig(cov)[0][0]\n",
    "        lamb2 = np.linalg.eig(cov)[0][1]\n",
    "        \n",
    "        R = ((lamb1 * lamb2) - 0.04 * ((lamb1 + lamb2) ** 2))\n",
    "        \n",
    "        if R > threshold:\n",
    "            corner[x,y] += R"
   ]
  },
  {
   "cell_type": "code",
   "execution_count": 8,
   "metadata": {},
   "outputs": [],
   "source": [
    "# Visualizing the points detected as corners\n",
    "\n",
    "cv2.imshow('img', corner)\n",
    "cv2.waitKey(0)\n",
    "cv2.destroyAllWindows()"
   ]
  },
  {
   "cell_type": "code",
   "execution_count": 9,
   "metadata": {},
   "outputs": [],
   "source": [
    "# Setting a window Wh to verify which corners are to be considered\n",
    "\n",
    "Wh = 15\n",
    "\n",
    "idxs = []\n",
    "\n",
    "filt_corner = np.zeros((width, heigh, 1), np.float64)\n",
    "\n",
    "for y in range (heigh // Wh):\n",
    "    for x in range(width // Wh):\n",
    "        idx = np.argmax(corner[(x * Wh) : ((x + 1) * Wh), (y * Wh) : ((y + 1) * Wh)])\n",
    "#         print('x: ', x)\n",
    "#         print('y: ', y)\n",
    "#         print('idx: ', idx)\n",
    "        \n",
    "        if (idx != 0):\n",
    "            y2 = ((y * Wh) + (idx % Wh))\n",
    "            x2 = ((x * Wh) + (idx // Wh))\n",
    "            idxs.append(idx)\n",
    "            filt_corner[x2,y2] = 255"
   ]
  },
  {
   "cell_type": "code",
   "execution_count": 10,
   "metadata": {},
   "outputs": [],
   "source": [
    "# Visualizing\n",
    "\n",
    "cv2.imshow('img', filt_corner)\n",
    "cv2.waitKey(0)\n",
    "cv2.destroyAllWindows()"
   ]
  },
  {
   "cell_type": "code",
   "execution_count": 11,
   "metadata": {},
   "outputs": [],
   "source": [
    "kernel = np.ones((Wd, Wd), np.uint8)\n",
    "fc_dil = cv2.dilate(filt_corner, kernel, iterations=1)"
   ]
  },
  {
   "cell_type": "code",
   "execution_count": 12,
   "metadata": {},
   "outputs": [],
   "source": [
    "# Visualizing\n",
    "\n",
    "cv2.imshow('img', fc_dil)\n",
    "cv2.waitKey(0)\n",
    "cv2.destroyAllWindows()"
   ]
  },
  {
   "cell_type": "code",
   "execution_count": 14,
   "metadata": {},
   "outputs": [],
   "source": [
    "# res = cv2.bitwise_and(img, img, mask=fc_dil)"
   ]
  },
  {
   "cell_type": "code",
   "execution_count": 15,
   "metadata": {},
   "outputs": [],
   "source": [
    "# # Visualizing\n",
    "\n",
    "# cv2.imshow('img', res)\n",
    "# cv2.waitKey(0)\n",
    "# cv2.destroyAllWindows()"
   ]
  },
  {
   "cell_type": "markdown",
   "metadata": {},
   "source": [
    "**Part 2: Feature Crossing**"
   ]
  }
 ],
 "metadata": {
  "kernelspec": {
   "display_name": "Python 3",
   "language": "python",
   "name": "python3"
  },
  "language_info": {
   "codemirror_mode": {
    "name": "ipython",
    "version": 3
   },
   "file_extension": ".py",
   "mimetype": "text/x-python",
   "name": "python",
   "nbconvert_exporter": "python",
   "pygments_lexer": "ipython3",
   "version": "3.7.3"
  }
 },
 "nbformat": 4,
 "nbformat_minor": 2
}
