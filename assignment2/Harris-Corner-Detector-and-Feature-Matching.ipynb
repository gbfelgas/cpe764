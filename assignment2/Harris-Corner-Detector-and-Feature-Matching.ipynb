{
 "cells": [
  {
   "cell_type": "markdown",
   "metadata": {},
   "source": [
    "**Part 1: Harris Corner Detector**"
   ]
  },
  {
   "cell_type": "code",
   "execution_count": 1,
   "metadata": {},
   "outputs": [],
   "source": [
    "# importing libraries\n",
    "\n",
    "import cv2 \n",
    "import sys\n",
    "\n",
    "import numpy as np\n",
    "import matplotlib as plt\n",
    "\n",
    "np.set_printoptions(threshold=sys.maxsize)"
   ]
  },
  {
   "cell_type": "code",
   "execution_count": 2,
   "metadata": {},
   "outputs": [],
   "source": [
    "# loading example images\n",
    "\n",
    "imgs = {}\n",
    "\n",
    "imgs['goi1'] = cv2.imread('CV_Lista02_dados/goi1.jpg', 0)\n",
    "imgs['goi2'] = cv2.imread('CV_Lista02_dados/goi2.jpg', 0)\n",
    "imgs['building1'] = cv2.imread('CV_Lista02_dados/building1.jpg', 0)\n",
    "imgs['building2'] = cv2.imread('CV_Lista02_dados/building2.jpg', 0)"
   ]
  },
  {
   "cell_type": "code",
   "execution_count": 3,
   "metadata": {},
   "outputs": [],
   "source": [
    "# Calculating derivatives for both directions\n",
    "# for each image example\n",
    "\n",
    "Wd = 3\n",
    "\n",
    "dx = {}\n",
    "dy = {}\n",
    "\n",
    "for img in imgs.keys():\n",
    "    dx[img] = cv2.Sobel(imgs[img], -1, 1, 0, ksize=Wd)\n",
    "    dy[img] = cv2.Sobel(imgs[img], -1, 0, 1, ksize=Wd)"
   ]
  },
  {
   "cell_type": "code",
   "execution_count": 4,
   "metadata": {},
   "outputs": [],
   "source": [
    "# Visualizing dx\n",
    "\n",
    "for img in imgs.keys():\n",
    "    cv2.imshow('img', dx[img])\n",
    "    cv2.waitKey(0)\n",
    "    cv2.destroyAllWindows()"
   ]
  },
  {
   "cell_type": "code",
   "execution_count": 5,
   "metadata": {},
   "outputs": [],
   "source": [
    "# Visualizing dy\n",
    "\n",
    "for img in imgs.keys():\n",
    "    cv2.imshow('img', dy[img])\n",
    "    cv2.waitKey(0)\n",
    "    cv2.destroyAllWindows()"
   ]
  },
  {
   "cell_type": "code",
   "execution_count": 6,
   "metadata": {},
   "outputs": [],
   "source": [
    "# Calculating the covariance matrix\n",
    "# for each image example\n",
    "\n",
    "corner = {}\n",
    "width = {}\n",
    "heigh = {}\n",
    "\n",
    "offset = int(((5 * Wd) - 1) / 2)\n",
    "threshold = 1500000\n",
    "stride = 1\n",
    "\n",
    "for img in imgs.keys():\n",
    "    dxdx = dx[img] ** 2\n",
    "    dydy = dy[img] ** 2\n",
    "    dxdy = dx[img] * dy[img]\n",
    "    \n",
    "    # Initializing parameters\n",
    "    width[img] = imgs[img].shape[0]\n",
    "    heigh[img] = imgs[img].shape[1]\n",
    "\n",
    "    # Initializing corner variable to store the points\n",
    "    corner[img] = np.zeros((width[img], heigh[img]), np.float64)\n",
    "\n",
    "    # Applying symmetric padding to the image\n",
    "    dxdx_pad = np.pad(dxdx, ((offset, offset), (offset, offset)), 'constant')\n",
    "    dydy_pad = np.pad(dydy, ((offset, offset), (offset, offset)), 'constant')\n",
    "    dxdy_pad = np.pad(dxdy, ((offset, offset), (offset, offset)), 'constant')\n",
    "\n",
    "    # For each pixel, the covariance matrix is calculated\n",
    "    for y in range(heigh[img]):\n",
    "        for x in range(width[img]):\n",
    "            sdxdx = np.sum(dxdx_pad[(x * stride) : (x * stride) + (2 * offset), (y * stride) : (y * stride) + (2 * offset)])\n",
    "            sdydy = np.sum(dydy_pad[(x * stride) : (x * stride) + (2 * offset), (y * stride) : (y * stride) + (2 * offset)])\n",
    "            sdxdy = np.sum(dxdy_pad[(x * stride) : (x * stride) + (2 * offset), (y * stride) : (y * stride) + (2 * offset)])\n",
    "\n",
    "            cov = [[sdxdx, sdxdy], [sdxdy, sdydy]]\n",
    "\n",
    "            lamb1 = np.linalg.eig(cov)[0][0]\n",
    "            lamb2 = np.linalg.eig(cov)[0][1]\n",
    "\n",
    "            R = ((lamb1 * lamb2) - 0.04 * ((lamb1 + lamb2) ** 2))\n",
    "\n",
    "            if R > threshold:\n",
    "                corner[img][x, y] += R"
   ]
  },
  {
   "cell_type": "code",
   "execution_count": 7,
   "metadata": {},
   "outputs": [],
   "source": [
    "# Visualizing the points detected as corners\n",
    "\n",
    "for img in imgs.keys():\n",
    "    cv2.imshow('img', corner[img])\n",
    "    cv2.waitKey(0)\n",
    "    cv2.destroyAllWindows()"
   ]
  },
  {
   "cell_type": "code",
   "execution_count": 8,
   "metadata": {},
   "outputs": [],
   "source": [
    "# Setting a window Wh to verify which corners are to be considered\n",
    "# It works like a \"maxpooling layer\"\n",
    "\n",
    "Wh = 20\n",
    "idxs = []\n",
    "filt_corner = {}\n",
    "\n",
    "for img in imgs.keys():\n",
    "    filt_corner[img] = np.zeros((width[img], heigh[img], 1), np.float64)\n",
    "\n",
    "    for y in range (heigh[img] // Wh):\n",
    "        for x in range(width[img] // Wh):\n",
    "            idx = np.argmax(corner[img][(x * Wh) : ((x + 1) * Wh), (y * Wh) : ((y + 1) * Wh)])\n",
    "\n",
    "            if (idx != 0):\n",
    "                new_y = ((y * Wh) + (idx % Wh))\n",
    "                new_x = ((x * Wh) + (idx // Wh))\n",
    "                idxs.append(idx)\n",
    "                filt_corner[img][new_x, new_y] = 255"
   ]
  },
  {
   "cell_type": "code",
   "execution_count": 9,
   "metadata": {},
   "outputs": [],
   "source": [
    "# Visualizing\n",
    "\n",
    "for img in imgs.keys():\n",
    "    cv2.imshow('img', filt_corner[img])\n",
    "    cv2.waitKey(0)\n",
    "    cv2.destroyAllWindows()"
   ]
  },
  {
   "cell_type": "code",
   "execution_count": 13,
   "metadata": {},
   "outputs": [],
   "source": [
    "# Image process for better visualization\n",
    "\n",
    "kernel = np.ones((Wd, Wd), np.uint8)\n",
    "fc_dil = {}\n",
    "visualization = {}\n",
    "\n",
    "for img in imgs.keys():\n",
    "    # Dilatating the dots\n",
    "    fc_dil[img] = cv2.dilate(filt_corner[img], kernel, iterations=1)\n",
    "    \n",
    "    # Converting to uint8\n",
    "    fc_dil[img] = fc_dil[img].astype(np.uint8)\n",
    "    \n",
    "    # Getting the negative\n",
    "    fc_dil[img] = cv2.bitwise_not(fc_dil[img])\n",
    "    \n",
    "    # Appling the mask\n",
    "    visualization[img] = cv2.bitwise_and(imgs[img], imgs[img], mask = fc_dil[img])\n",
    "    \n",
    "    # Visualizing the processed corners\n",
    "    cv2.imshow('img', fc_dil[img])\n",
    "    cv2.waitKey(0)\n",
    "    cv2.destroyAllWindows()\n",
    "    \n",
    "    # And the final result\n",
    "    cv2.imshow('img', visualization[img])\n",
    "    cv2.waitKey(0)\n",
    "    cv2.destroyAllWindows()"
   ]
  },
  {
   "cell_type": "markdown",
   "metadata": {},
   "source": [
    "**Part 2: Feature Matching**"
   ]
  }
 ],
 "metadata": {
  "kernelspec": {
   "display_name": "Python 3",
   "language": "python",
   "name": "python3"
  },
  "language_info": {
   "codemirror_mode": {
    "name": "ipython",
    "version": 3
   },
   "file_extension": ".py",
   "mimetype": "text/x-python",
   "name": "python",
   "nbconvert_exporter": "python",
   "pygments_lexer": "ipython3",
   "version": "3.7.4"
  }
 },
 "nbformat": 4,
 "nbformat_minor": 2
}
